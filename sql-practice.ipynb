{
 "cells": [
  {
   "cell_type": "markdown",
   "metadata": {
    "toc": true
   },
   "source": [
    "<h1>Table of Contents<span class=\"tocSkip\"></span></h1>\n",
    "<div class=\"toc\"><ul class=\"toc-item\"></ul></div>"
   ]
  },
  {
   "cell_type": "code",
   "execution_count": 1,
   "metadata": {
    "ExecuteTime": {
     "end_time": "2020-02-06T22:51:50.718837Z",
     "start_time": "2020-02-06T22:51:47.877310Z"
    }
   },
   "outputs": [],
   "source": [
    "import sqlite3\n",
    "import pandas as pd\n",
    "import numpy as np\n",
    "import matplotlib.pyplot as plt"
   ]
  },
  {
   "cell_type": "code",
   "execution_count": 10,
   "metadata": {
    "ExecuteTime": {
     "end_time": "2020-02-06T23:07:03.215023Z",
     "start_time": "2020-02-06T23:07:03.204595Z"
    }
   },
   "outputs": [],
   "source": [
    "# Establish connection to database\n",
    "conn = sqlite3.connect('Northwind_small.sqlite')\n",
    "cur = conn.cursor()"
   ]
  },
  {
   "cell_type": "code",
   "execution_count": 3,
   "metadata": {
    "ExecuteTime": {
     "end_time": "2020-02-06T22:56:41.817672Z",
     "start_time": "2020-02-06T22:56:41.812699Z"
    }
   },
   "outputs": [],
   "source": [
    "# Create query template\n",
    "# cur.execute('''\n",
    "\n",
    "#             ;''')\n",
    "# df = pd.DataFrame(cur.fetchall())\n",
    "# df.columns = [x[0] for x in cur.description]\n",
    "# df.head()"
   ]
  },
  {
   "cell_type": "code",
   "execution_count": 12,
   "metadata": {
    "ExecuteTime": {
     "end_time": "2020-02-06T23:07:43.339635Z",
     "start_time": "2020-02-06T23:07:43.323936Z"
    }
   },
   "outputs": [
    {
     "data": {
      "text/html": [
       "<div>\n",
       "<style scoped>\n",
       "    .dataframe tbody tr th:only-of-type {\n",
       "        vertical-align: middle;\n",
       "    }\n",
       "\n",
       "    .dataframe tbody tr th {\n",
       "        vertical-align: top;\n",
       "    }\n",
       "\n",
       "    .dataframe thead th {\n",
       "        text-align: right;\n",
       "    }\n",
       "</style>\n",
       "<table border=\"1\" class=\"dataframe\">\n",
       "  <thead>\n",
       "    <tr style=\"text-align: right;\">\n",
       "      <th></th>\n",
       "      <th>name</th>\n",
       "    </tr>\n",
       "  </thead>\n",
       "  <tbody>\n",
       "    <tr>\n",
       "      <th>0</th>\n",
       "      <td>Employee</td>\n",
       "    </tr>\n",
       "    <tr>\n",
       "      <th>1</th>\n",
       "      <td>Category</td>\n",
       "    </tr>\n",
       "    <tr>\n",
       "      <th>2</th>\n",
       "      <td>Customer</td>\n",
       "    </tr>\n",
       "    <tr>\n",
       "      <th>3</th>\n",
       "      <td>Shipper</td>\n",
       "    </tr>\n",
       "    <tr>\n",
       "      <th>4</th>\n",
       "      <td>Supplier</td>\n",
       "    </tr>\n",
       "  </tbody>\n",
       "</table>\n",
       "</div>"
      ],
      "text/plain": [
       "       name\n",
       "0  Employee\n",
       "1  Category\n",
       "2  Customer\n",
       "3   Shipper\n",
       "4  Supplier"
      ]
     },
     "execution_count": 12,
     "metadata": {},
     "output_type": "execute_result"
    }
   ],
   "source": [
    "# View table names\n",
    "cur.execute('''\n",
    "            SELECT name\n",
    "            FROM sqlite_master\n",
    "            WHERE type = 'table'\n",
    "            ;''')\n",
    "df = pd.DataFrame(cur.fetchall())\n",
    "df.columns = [x[0] for x in cur.description]\n",
    "df.head()"
   ]
  },
  {
   "cell_type": "code",
   "execution_count": 16,
   "metadata": {
    "ExecuteTime": {
     "end_time": "2020-02-06T23:11:58.021261Z",
     "start_time": "2020-02-06T23:11:58.005994Z"
    }
   },
   "outputs": [
    {
     "data": {
      "text/html": [
       "<div>\n",
       "<style scoped>\n",
       "    .dataframe tbody tr th:only-of-type {\n",
       "        vertical-align: middle;\n",
       "    }\n",
       "\n",
       "    .dataframe tbody tr th {\n",
       "        vertical-align: top;\n",
       "    }\n",
       "\n",
       "    .dataframe thead th {\n",
       "        text-align: right;\n",
       "    }\n",
       "</style>\n",
       "<table border=\"1\" class=\"dataframe\">\n",
       "  <thead>\n",
       "    <tr style=\"text-align: right;\">\n",
       "      <th></th>\n",
       "      <th>Supplier Contacts</th>\n",
       "    </tr>\n",
       "  </thead>\n",
       "  <tbody>\n",
       "    <tr>\n",
       "      <th>0</th>\n",
       "      <td>Charlotte Cooper, Purchasing Manager, Exotic L...</td>\n",
       "    </tr>\n",
       "    <tr>\n",
       "      <th>1</th>\n",
       "      <td>Shelley Burke, Order Administrator, New Orlean...</td>\n",
       "    </tr>\n",
       "    <tr>\n",
       "      <th>2</th>\n",
       "      <td>Regina Murphy, Sales Representative, Grandma K...</td>\n",
       "    </tr>\n",
       "    <tr>\n",
       "      <th>3</th>\n",
       "      <td>Yoshi Nagase, Marketing Manager, Tokyo Traders</td>\n",
       "    </tr>\n",
       "    <tr>\n",
       "      <th>4</th>\n",
       "      <td>Antonio del Valle Saavedra, Export Administrat...</td>\n",
       "    </tr>\n",
       "  </tbody>\n",
       "</table>\n",
       "</div>"
      ],
      "text/plain": [
       "                                   Supplier Contacts\n",
       "0  Charlotte Cooper, Purchasing Manager, Exotic L...\n",
       "1  Shelley Burke, Order Administrator, New Orlean...\n",
       "2  Regina Murphy, Sales Representative, Grandma K...\n",
       "3     Yoshi Nagase, Marketing Manager, Tokyo Traders\n",
       "4  Antonio del Valle Saavedra, Export Administrat..."
      ]
     },
     "execution_count": 16,
     "metadata": {},
     "output_type": "execute_result"
    }
   ],
   "source": [
    "# Get list of contacts at suppliers\n",
    "# (Practice string concatenation)\n",
    "cur.execute('''\n",
    "            SELECT ContactName||', '||ContactTitle||', '||CompanyName\n",
    "            FROM Supplier\n",
    "            ;''')\n",
    "df = pd.DataFrame(cur.fetchall())\n",
    "df.columns = ['Supplier Contacts']\n",
    "df.head()"
   ]
  },
  {
   "cell_type": "code",
   "execution_count": 25,
   "metadata": {
    "ExecuteTime": {
     "end_time": "2020-02-06T23:19:26.602237Z",
     "start_time": "2020-02-06T23:19:26.586358Z"
    }
   },
   "outputs": [
    {
     "data": {
      "text/plain": [
       "Newbie     0.666667\n",
       "Veteran    0.333333\n",
       "Name: Status, dtype: float64"
      ]
     },
     "execution_count": 25,
     "metadata": {},
     "output_type": "execute_result"
    }
   ],
   "source": [
    "# Determine whether employees are 'veterans' or 'newbies' based on HireDate\n",
    "# Return percentages of veterans and newbies\n",
    "cur.execute('''\n",
    "            SELECT LastName||', '||FirstName AS Name, HireDate,\n",
    "                CASE WHEN HireDate < '2025-01-01' THEN 'Veteran'\n",
    "                     WHEN HireDate >= '2025-01-01' THEN 'Newbie'\n",
    "                     ELSE 'Other'\n",
    "                END AS Status\n",
    "            FROM Employee\n",
    "            ;''')\n",
    "df = pd.DataFrame(cur.fetchall())\n",
    "df.columns = [x[0] for x in cur.description]\n",
    "df.Status.value_counts(normalize=True)"
   ]
  },
  {
   "cell_type": "code",
   "execution_count": 30,
   "metadata": {
    "ExecuteTime": {
     "end_time": "2020-02-06T23:30:28.823651Z",
     "start_time": "2020-02-06T23:30:28.797692Z"
    }
   },
   "outputs": [
    {
     "data": {
      "text/html": [
       "<div>\n",
       "<style scoped>\n",
       "    .dataframe tbody tr th:only-of-type {\n",
       "        vertical-align: middle;\n",
       "    }\n",
       "\n",
       "    .dataframe tbody tr th {\n",
       "        vertical-align: top;\n",
       "    }\n",
       "\n",
       "    .dataframe thead th {\n",
       "        text-align: right;\n",
       "    }\n",
       "</style>\n",
       "<table border=\"1\" class=\"dataframe\">\n",
       "  <thead>\n",
       "    <tr style=\"text-align: right;\">\n",
       "      <th></th>\n",
       "      <th>FirstName</th>\n",
       "      <th>LastName</th>\n",
       "      <th>BirthDate</th>\n",
       "      <th>City</th>\n",
       "      <th>PostalCode</th>\n",
       "    </tr>\n",
       "  </thead>\n",
       "  <tbody>\n",
       "    <tr>\n",
       "      <th>0</th>\n",
       "      <td>Margaret</td>\n",
       "      <td>Peacock</td>\n",
       "      <td>1969-09-19</td>\n",
       "      <td>Redmond</td>\n",
       "      <td>98052</td>\n",
       "    </tr>\n",
       "    <tr>\n",
       "      <th>1</th>\n",
       "      <td>Nancy</td>\n",
       "      <td>Davolio</td>\n",
       "      <td>1980-12-08</td>\n",
       "      <td>Seattle</td>\n",
       "      <td>98122</td>\n",
       "    </tr>\n",
       "    <tr>\n",
       "      <th>2</th>\n",
       "      <td>Andrew</td>\n",
       "      <td>Fuller</td>\n",
       "      <td>1984-02-19</td>\n",
       "      <td>Tacoma</td>\n",
       "      <td>98401</td>\n",
       "    </tr>\n",
       "    <tr>\n",
       "      <th>3</th>\n",
       "      <td>Janet</td>\n",
       "      <td>Leverling</td>\n",
       "      <td>1995-08-30</td>\n",
       "      <td>Kirkland</td>\n",
       "      <td>98033</td>\n",
       "    </tr>\n",
       "    <tr>\n",
       "      <th>4</th>\n",
       "      <td>Michael</td>\n",
       "      <td>Suyama</td>\n",
       "      <td>1995-07-02</td>\n",
       "      <td>London</td>\n",
       "      <td>EC2 7JR</td>\n",
       "    </tr>\n",
       "    <tr>\n",
       "      <th>5</th>\n",
       "      <td>Robert</td>\n",
       "      <td>King</td>\n",
       "      <td>1992-05-29</td>\n",
       "      <td>London</td>\n",
       "      <td>RG1 9SP</td>\n",
       "    </tr>\n",
       "    <tr>\n",
       "      <th>6</th>\n",
       "      <td>Anne</td>\n",
       "      <td>Dodsworth</td>\n",
       "      <td>1998-01-27</td>\n",
       "      <td>London</td>\n",
       "      <td>WG2 7LT</td>\n",
       "    </tr>\n",
       "    <tr>\n",
       "      <th>7</th>\n",
       "      <td>Steven</td>\n",
       "      <td>Buchanan</td>\n",
       "      <td>1987-03-04</td>\n",
       "      <td>London</td>\n",
       "      <td>SW1 8JR</td>\n",
       "    </tr>\n",
       "    <tr>\n",
       "      <th>8</th>\n",
       "      <td>Laura</td>\n",
       "      <td>Callahan</td>\n",
       "      <td>1990-01-09</td>\n",
       "      <td>Seattle</td>\n",
       "      <td>98105</td>\n",
       "    </tr>\n",
       "  </tbody>\n",
       "</table>\n",
       "</div>"
      ],
      "text/plain": [
       "  FirstName   LastName   BirthDate      City PostalCode\n",
       "0  Margaret    Peacock  1969-09-19   Redmond      98052\n",
       "1     Nancy    Davolio  1980-12-08   Seattle      98122\n",
       "2    Andrew     Fuller  1984-02-19    Tacoma      98401\n",
       "3     Janet  Leverling  1995-08-30  Kirkland      98033\n",
       "4   Michael     Suyama  1995-07-02    London    EC2 7JR\n",
       "5    Robert       King  1992-05-29    London    RG1 9SP\n",
       "6      Anne  Dodsworth  1998-01-27    London    WG2 7LT\n",
       "7    Steven   Buchanan  1987-03-04    London    SW1 8JR\n",
       "8     Laura   Callahan  1990-01-09   Seattle      98105"
      ]
     },
     "execution_count": 30,
     "metadata": {},
     "output_type": "execute_result"
    }
   ],
   "source": [
    "# (Practice ordering results based on evaluation of a condition.)\n",
    "cur.execute('''\n",
    "            SELECT FirstName, LastName, BirthDate, City, PostalCode\n",
    "            FROM Employee\n",
    "            ORDER BY \n",
    "                CASE WHEN Birthdate > '1990-01-01' \n",
    "                         THEN City \n",
    "                         ELSE PostalCode \n",
    "                END\n",
    "            ;''')\n",
    "df = pd.DataFrame(cur.fetchall())\n",
    "df.columns = [x[0] for x in cur.description]\n",
    "df.head(20)"
   ]
  },
  {
   "cell_type": "code",
   "execution_count": null,
   "metadata": {},
   "outputs": [],
   "source": []
  }
 ],
 "metadata": {
  "kernelspec": {
   "display_name": "Python 3",
   "language": "python",
   "name": "python3"
  },
  "language_info": {
   "codemirror_mode": {
    "name": "ipython",
    "version": 3
   },
   "file_extension": ".py",
   "mimetype": "text/x-python",
   "name": "python",
   "nbconvert_exporter": "python",
   "pygments_lexer": "ipython3",
   "version": "3.7.3"
  },
  "toc": {
   "base_numbering": 1,
   "nav_menu": {},
   "number_sections": true,
   "sideBar": true,
   "skip_h1_title": false,
   "title_cell": "Table of Contents",
   "title_sidebar": "Contents",
   "toc_cell": true,
   "toc_position": {},
   "toc_section_display": true,
   "toc_window_display": false
  }
 },
 "nbformat": 4,
 "nbformat_minor": 2
}
